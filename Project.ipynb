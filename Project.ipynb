{
 "cells": [
  {
   "cell_type": "markdown",
   "metadata": {},
   "source": [
    "## Global Student Diversity Insights"
   ]
  },
  {
   "cell_type": "markdown",
   "metadata": {},
   "source": [
    "###### The hypothesis suggests a slow increase in the number of females in academic programs over the last decade. To support this idea, we'll take a close look at how many boys and girls were enrolled in different academic years using the Global_Student_Diversity_Insights database. This analysis aims to reveal noticeable patterns and differences in gender participation over specific time periods, providing useful insights into the complex dynamics of gender representation in education. The potential impact of this study goes beyond mere observation; it could help shape educational policies to create more inclusive and diverse academic environments worldwide."
   ]
  },
  {
   "cell_type": "markdown",
   "metadata": {},
   "source": [
    "**Step 1:**\n",
    "\n",
    "###### Import the database into VSCode and explore insights within the Global_Student_Diversity_Insights database."
   ]
  },
  {
   "cell_type": "code",
   "execution_count": null,
   "metadata": {},
   "outputs": [],
   "source": [
    "import numpy as np\n",
    "\n",
    "import pandas as pd\n",
    "\n",
    "import pymysql as mysql\n",
    "\n",
    "import matplotlib.pyplot as plt\n",
    "\n",
    "from sqlalchemy import create_engine"
   ]
  },
  {
   "cell_type": "code",
   "execution_count": null,
   "metadata": {},
   "outputs": [],
   "source": [
    "# Defining the password variable\n",
    "password = '123123123'\n",
    "\n",
    "# Creating a connection to the Global_Student_Diversity_Insights database\n",
    "conn = mysql.connect(host='localhost',\n",
    "                     port=3306, user='root',\n",
    "                     passwd=password,\n",
    "                     db='Global_Student_Diversity_Insights')\n",
    "# Create a SQLAlchemy engine\n",
    "engine = create_engine(f\"mysql+pymysql://{'root'}:{password}@{'localhost'}:{3306}/{'Global_Student_Diversity_Insights'}\")"
   ]
  },
  {
   "cell_type": "code",
   "execution_count": null,
   "metadata": {},
   "outputs": [],
   "source": [
    "showTable = pd.read_sql(\"Show Tables \", engine)\n",
    "showTable"
   ]
  },
  {
   "cell_type": "markdown",
   "metadata": {},
   "source": [
    "###### The \"Global_Student_Diversity_Insights\" dataset consists of six tables—academic details, enrollment, field of study, student origin, funding sources, and student status—offering comprehensive insights into various aspects of global student diversity."
   ]
  },
  {
   "cell_type": "code",
   "execution_count": null,
   "metadata": {},
   "outputs": [],
   "source": [
    "academicDetailDisplay = pd.read_sql(\"SELECT * FROM academic_detail_modified;\", engine)\n",
    "print(\"Display of the table:\")\n",
    "academicDetailDisplay.head(3)"
   ]
  },
  {
   "cell_type": "code",
   "execution_count": null,
   "metadata": {},
   "outputs": [],
   "source": [
    "academicDisplay = pd.read_sql(\"SELECT * FROM academic_modified;\", engine)\n",
    "print(\"Display of the table:\")\n",
    "academicDisplay.head(3)"
   ]
  },
  {
   "cell_type": "code",
   "execution_count": null,
   "metadata": {},
   "outputs": [],
   "source": [
    "studyFieldDisplay = pd.read_sql(\"SELECT * FROM field_of_study_modified;\", engine)\n",
    "print(\"Display of the table:\")\n",
    "studyFieldDisplay.head(3)"
   ]
  },
  {
   "cell_type": "code",
   "execution_count": null,
   "metadata": {},
   "outputs": [],
   "source": [
    "originDisplay = pd.read_sql(\"SELECT * FROM origin_modified;\", engine)\n",
    "print(\"Display of the table:\")\n",
    "originDisplay.head(3)\n"
   ]
  },
  {
   "cell_type": "code",
   "execution_count": null,
   "metadata": {},
   "outputs": [],
   "source": [
    "sourceOfFundDisplay = pd.read_sql(\"SELECT * FROM source_of_fund_modified;\", engine)\n",
    "print(\"Display of the table:\")\n",
    "sourceOfFundDisplay.head(3)"
   ]
  },
  {
   "cell_type": "code",
   "execution_count": null,
   "metadata": {},
   "outputs": [],
   "source": [
    "statusDisplay = pd.read_sql(\"SELECT * FROM status_modified;\", engine)\n",
    "print(\"Display of the table:\")\n",
    "statusDisplay.head(3)"
   ]
  },
  {
   "cell_type": "markdown",
   "metadata": {},
   "source": [
    "**Step 2**\n",
    "###### Basic Overview:"
   ]
  },
  {
   "cell_type": "code",
   "execution_count": null,
   "metadata": {},
   "outputs": [],
   "source": [
    "academicDetail = pd.read_sql(\"\"\"DESCRIBE academic_detail_modified;\n",
    "\"\"\", engine)\n",
    "print(\"The decribe table of academic detail modified:\")\n",
    "academicDetail\n"
   ]
  },
  {
   "cell_type": "code",
   "execution_count": null,
   "metadata": {},
   "outputs": [],
   "source": [
    "academic = pd.read_sql(\"\"\"DESCRIBE academic_modified;\n",
    "\"\"\", engine)\n",
    "print(\"The decribe table of academic modified:\")\n",
    "academic"
   ]
  },
  {
   "cell_type": "code",
   "execution_count": null,
   "metadata": {},
   "outputs": [],
   "source": [
    "studyField= pd.read_sql(\"\"\"DESCRIBE field_of_study_modified;\n",
    "\"\"\", engine)\n",
    "print(\"The decribe table of field of study modified:\")\n",
    "studyField"
   ]
  },
  {
   "cell_type": "code",
   "execution_count": null,
   "metadata": {},
   "outputs": [],
   "source": [
    "origin= pd.read_sql(\"\"\"DESCRIBE origin_modified;\n",
    "\"\"\", engine)\n",
    "print(\"The decribe table of origin modified:\")\n",
    "origin"
   ]
  },
  {
   "cell_type": "code",
   "execution_count": null,
   "metadata": {},
   "outputs": [],
   "source": [
    "sourceOfFund = pd.read_sql(\"\"\"DESCRIBE source_of_fund_modified;\n",
    "\"\"\", engine)\n",
    "print(\"The decribe table of source of fund modified:\")\n",
    "sourceOfFund"
   ]
  },
  {
   "cell_type": "code",
   "execution_count": null,
   "metadata": {},
   "outputs": [],
   "source": [
    "status = pd.read_sql(\"\"\"DESCRIBE status_modified;\n",
    "\"\"\", engine)\n",
    "print(\"The decribe table of status modified:\")\n",
    "status"
   ]
  },
  {
   "cell_type": "code",
   "execution_count": null,
   "metadata": {},
   "outputs": [],
   "source": [
    "# Load each table into a DataFrame for EDA\n",
    "tables = ['status_modified', 'academic_modified', 'field_of_study_modified', 'origin_modified', 'source_of_fund_modified', 'academic_detail_modified']\n",
    "for i in tables:\n",
    "     # Load table into DataFrame\n",
    "    dfDESCRIBE = pd.read_sql_query(f\"DESCRIBE {i}\", engine)\n",
    "    # Display table name\n",
    "    print(f\"\\n{i} - Basic Overview:\")\n",
    "    # Display Basic Overview:\n",
    "    print(dfDESCRIBE)\n",
    "# Close the engine connection\n",
    "engine.dispose()\n",
    "    "
   ]
  },
  {
   "cell_type": "markdown",
   "metadata": {},
   "source": [
    "**Step 3**\n",
    "###### Summary Statistics"
   ]
  },
  {
   "cell_type": "code",
   "execution_count": null,
   "metadata": {},
   "outputs": [],
   "source": [
    "# Load each table into a DataFrame for EDA\n",
    "tables = ['status_modified', 'academic_modified', 'field_of_study_modified', 'origin_modified', 'source_of_fund_modified', 'academic_detail_modified']\n",
    "for i in tables:\n",
    "     # Load table into DataFrame\n",
    "    df = pd.read_sql_query(f\"SELECT * FROM {i}\", engine)\n",
    "    # Display table name\n",
    "    print(f\"\\n{i} - Summary Statistics:\")\n",
    "    # Display summary statistics\n",
    "    print(df.describe())\n",
    "# Close the engine connection\n",
    "engine.dispose()\n",
    "    \n",
    "    "
   ]
  },
  {
   "cell_type": "markdown",
   "metadata": {},
   "source": [
    "**Step 4**\n",
    "###### Missing Values:"
   ]
  },
  {
   "cell_type": "code",
   "execution_count": null,
   "metadata": {},
   "outputs": [],
   "source": [
    "for table in tables:\n",
    "    # Load table into DataFrame\n",
    "    df = pd.read_sql_table(table, engine)\n",
    "    # Check for missing values\n",
    "    print(f\"\\n{table} - Missing Values:\")\n",
    "    print(df.isnull().sum())\n",
    "\n",
    "# Close the engine connection\n",
    "engine.dispose()"
   ]
  },
  {
   "cell_type": "markdown",
   "metadata": {},
   "source": [
    "**Step 5**\n",
    "###### Data Transformation"
   ]
  },
  {
   "cell_type": "code",
   "execution_count": null,
   "metadata": {},
   "outputs": [],
   "source": [
    "AddNewColumn = pd.read_sql_query(\"\"\"select *  from status_modified;\n",
    "                                 \"\"\", engine)\n",
    "AddNewColumn"
   ]
  },
  {
   "cell_type": "code",
   "execution_count": null,
   "metadata": {},
   "outputs": [],
   "source": [
    "# Assuming 'engine' is your SQLAlchemy engine\n",
    "with engine.connect() as connection:\n",
    "    # Execute the UPDATE statement\n",
    "    connection.execute(\"\"\"\n",
    "        UPDATE status_modified\n",
    "        SET female_percentage = (female / (female + male)) * 100\n",
    "    \"\"\")\n"
   ]
  },
  {
   "cell_type": "code",
   "execution_count": null,
   "metadata": {},
   "outputs": [],
   "source": [
    "JoinTables = pd.read_sql_query(\"\"\"SELECT *\n",
    "                               FROM status_modified\n",
    "                               JOIN academic_modified ON status_modified.year = academic_modified.year;\n",
    "                               \"\"\", engine)\n",
    "JoinTables"
   ]
  },
  {
   "cell_type": "code",
   "execution_count": null,
   "metadata": {},
   "outputs": [],
   "source": [
    "\n"
   ]
  },
  {
   "cell_type": "code",
   "execution_count": null,
   "metadata": {},
   "outputs": [],
   "source": [
    "# # Combine Academic Details\n",
    "# sql_combine_academic_details = \"\"\"\n",
    "# INSERT INTO academic_modified (year, students, us_students, undergraduate, graduate, non_degree, opt)\n",
    "# SELECT a.year, a.students, a.us_students, a.undergraduate, a.graduate, a.non_degree, a.opt\n",
    "# FROM academic_detail_modified a\n",
    "# WHERE a.academic_type = 'Undergraduate';\n",
    "# \"\"\"\n",
    "\n",
    "# # Calculate Female Percentage\n",
    "# sql_calculate_female_percentage = \"\"\"\n",
    "# ALTER TABLE status_modified\n",
    "# ADD COLUMN female_percentage FLOAT;\n",
    "\n",
    "# UPDATE status_modified\n",
    "# SET female_percentage = (female / (female + male)) * 100;\n",
    "# \"\"\"\n",
    "\n",
    "# # Calculate Female Increase Over Time\n",
    "# sql_calculate_female_increase = \"\"\"\n",
    "# SELECT year, female,\n",
    "#        LAG(female) OVER (ORDER BY year) AS female_previous_year,\n",
    "#        (female - LAG(female) OVER (ORDER BY year)) AS female_increase\n",
    "# FROM status_modified\n",
    "# ORDER BY year;\n",
    "# \"\"\"\n",
    "\n",
    "# # Execute SQL queries\n",
    "# with engine.connect() as connection:\n",
    "#     connection.execute(sql_combine_academic_details)\n",
    "#     connection.execute(sql_calculate_female_percentage)\n",
    "#     df_female_increase = pd.read_sql_query(sql_calculate_female_increase, engine)\n",
    "\n",
    "# # Display the result of the third query\n",
    "# print(\"\\nFemale Increase Over Time:\")\n",
    "# print(df_female_increase)"
   ]
  },
  {
   "cell_type": "code",
   "execution_count": null,
   "metadata": {},
   "outputs": [],
   "source": [
    "# # 1. Gender Distribution Over Time\n",
    "# gender_distribution = pd.read_sql_query(\"\"\"\n",
    "#                                         SELECT year, female, male\n",
    "#                                         FROM status_modified\n",
    "#                                         ORDER BY year;\n",
    "#                                         \"\"\", engine)\n",
    "# gender_distribution "
   ]
  },
  {
   "cell_type": "code",
   "execution_count": null,
   "metadata": {},
   "outputs": [],
   "source": [
    "# # Calculate the sum of female and male students over the past ten years\n",
    "# total_female = gender_distribution['female'].sum()\n",
    "# total_male = gender_distribution['male'].sum()\n",
    "\n",
    "# # Display the results\n",
    "# print(f\"Total Female Students over the Past Ten Years: {total_female}\")\n",
    "# print(f\"Total Male Students over the Past Ten Years: {total_male}\")\n"
   ]
  },
  {
   "cell_type": "code",
   "execution_count": null,
   "metadata": {},
   "outputs": [],
   "source": [
    "# academic_level_gender = pd.read_sql_query(\"\"\"\n",
    "#                                           SELECT *\n",
    "#                                           FROM status_modified;\"\"\", engine)\n",
    "# academic_level_gender                              "
   ]
  },
  {
   "cell_type": "code",
   "execution_count": null,
   "metadata": {},
   "outputs": [],
   "source": []
  },
  {
   "cell_type": "code",
   "execution_count": null,
   "metadata": {},
   "outputs": [],
   "source": [
    "\n",
    "\n",
    "# # 2. Academic Level and Gender\n",
    "# query2 = \"\"\"\n",
    "# SELECT year, academic_level, female\n",
    "# FROM status_modified\n",
    "# ORDER BY year, academic_level;\n",
    "# \"\"\"\n",
    "# academic_level_gender = pd.read_sql_query(query2, conn)\n",
    "\n",
    "# # 3. Marital Status and Gender\n",
    "# query3 = \"\"\"\n",
    "# SELECT year, single, married\n",
    "# FROM status_modified\n",
    "# WHERE gender = 'female'\n",
    "# ORDER BY year;\n",
    "# \"\"\"\n",
    "# marital_status_gender = pd.read_sql_query(query3, conn)\n",
    "\n",
    "# # 4. Full-Time vs. Part-Time Enrollment\n",
    "# query4 = \"\"\"\n",
    "# SELECT year, full_time, part_time\n",
    "# FROM status_modified\n",
    "# WHERE gender = 'female'\n",
    "# ORDER BY year;\n",
    "# \"\"\"\n",
    "# enrollment_status_gender = pd.read_sql_query(query4, conn)\n",
    "\n",
    "# # 5. Visa Types and Gender\n",
    "# query5 = \"\"\"\n",
    "# SELECT year, visa_f, visa_j, visa_other\n",
    "# FROM status_modified\n",
    "# WHERE gender = 'female'\n",
    "# ORDER BY year;\n",
    "# \"\"\"\n",
    "# visa_types_gender = pd.read_sql_query(query5, conn)\n",
    "\n",
    "# # 6. Field of Study and Gender\n",
    "# query6 = \"\"\"\n",
    "# SELECT s.year, f.field_of_study, s.female\n",
    "# FROM status_modified s\n",
    "# JOIN field_of_study_modified f ON s.year = f.year\n",
    "# WHERE s.gender = 'female'\n",
    "# ORDER BY s.year, f.field_of_study;\n",
    "# \"\"\"\n",
    "# field_of_study_gender = pd.read_sql_query(query6, conn)\n",
    "\n",
    "# # Close the database connection\n",
    "# conn.close()\n",
    "\n"
   ]
  }
 ],
 "metadata": {
  "kernelspec": {
   "display_name": "Python 3",
   "language": "python",
   "name": "python3"
  },
  "language_info": {
   "codemirror_mode": {
    "name": "ipython",
    "version": 3
   },
   "file_extension": ".py",
   "mimetype": "text/x-python",
   "name": "python",
   "nbconvert_exporter": "python",
   "pygments_lexer": "ipython3",
   "version": "3.11.7"
  }
 },
 "nbformat": 4,
 "nbformat_minor": 2
}
