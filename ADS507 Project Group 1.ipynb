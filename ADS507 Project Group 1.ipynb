{
 "cells": [
  {
   "cell_type": "markdown",
   "metadata": {},
   "source": [
    "Step One: Import libraries and establish a connection"
   ]
  },
  {
   "cell_type": "code",
   "execution_count": 42,
   "metadata": {},
   "outputs": [],
   "source": [
    "# Import necessary Python packages here:\n",
    "\n",
    "import numpy as np\n",
    "import pandas as pd\n",
    "import pymysql as mysql\n",
    "import matplotlib.pyplot as plt\n"
   ]
  },
  {
   "cell_type": "code",
   "execution_count": 43,
   "metadata": {},
   "outputs": [
    {
     "name": "stdout",
     "output_type": "stream",
     "text": [
      "Successfully Connected to Global_student_diversity_insights database!\n"
     ]
    }
   ],
   "source": [
    "# Defining Parameters\n",
    "host = 'localhost'\n",
    "port = 3306\n",
    "username = 'root'  \n",
    "password = 'Mysql73!'  \n",
    "database = 'Global_student_diversity_insights'\n",
    "\n",
    "# Establish a connection here:\n",
    "conn = mysql.connect(host=host, port=port, user=username, passwd=password, db=database)\n",
    "\n",
    "# Checking the connection  \n",
    "if conn:\n",
    "    print(\"Successfully Connected to Global_student_diversity_insights database!\")\n",
    "else:\n",
    "    print(\"Connection failed, please retry\")"
   ]
  },
  {
   "cell_type": "markdown",
   "metadata": {},
   "source": [
    "Step Two: How many tables do we have?\n"
   ]
  },
  {
   "cell_type": "code",
   "execution_count": 44,
   "metadata": {},
   "outputs": [
    {
     "name": "stderr",
     "output_type": "stream",
     "text": [
      "/var/folders/t1/yg1rln0x5bg97h_qn954mvlh0000gn/T/ipykernel_8919/4027211573.py:4: UserWarning: pandas only supports SQLAlchemy connectable (engine/connection) or database string URI or sqlite3 DBAPI2 connection. Other DBAPI2 objects are not tested. Please consider using SQLAlchemy.\n",
      "  tableNames = pd.read_sql(query_tableNames, conn)\n"
     ]
    },
    {
     "data": {
      "text/html": [
       "<div>\n",
       "<style scoped>\n",
       "    .dataframe tbody tr th:only-of-type {\n",
       "        vertical-align: middle;\n",
       "    }\n",
       "\n",
       "    .dataframe tbody tr th {\n",
       "        vertical-align: top;\n",
       "    }\n",
       "\n",
       "    .dataframe thead th {\n",
       "        text-align: right;\n",
       "    }\n",
       "</style>\n",
       "<table border=\"1\" class=\"dataframe\">\n",
       "  <thead>\n",
       "    <tr style=\"text-align: right;\">\n",
       "      <th></th>\n",
       "      <th>Tables_in_global_student_diversity_insights</th>\n",
       "    </tr>\n",
       "  </thead>\n",
       "  <tbody>\n",
       "    <tr>\n",
       "      <th>0</th>\n",
       "      <td>academic_detail_modified</td>\n",
       "    </tr>\n",
       "    <tr>\n",
       "      <th>1</th>\n",
       "      <td>academic_modified</td>\n",
       "    </tr>\n",
       "    <tr>\n",
       "      <th>2</th>\n",
       "      <td>field_of_study_modified</td>\n",
       "    </tr>\n",
       "    <tr>\n",
       "      <th>3</th>\n",
       "      <td>origin_modified</td>\n",
       "    </tr>\n",
       "    <tr>\n",
       "      <th>4</th>\n",
       "      <td>source_of_fund_modified</td>\n",
       "    </tr>\n",
       "    <tr>\n",
       "      <th>5</th>\n",
       "      <td>status_modified</td>\n",
       "    </tr>\n",
       "  </tbody>\n",
       "</table>\n",
       "</div>"
      ],
      "text/plain": [
       "  Tables_in_global_student_diversity_insights\n",
       "0                    academic_detail_modified\n",
       "1                           academic_modified\n",
       "2                     field_of_study_modified\n",
       "3                             origin_modified\n",
       "4                     source_of_fund_modified\n",
       "5                             status_modified"
      ]
     },
     "execution_count": 44,
     "metadata": {},
     "output_type": "execute_result"
    }
   ],
   "source": [
    "# Retrieving all table names here:\n",
    "query_tableNames = \"SHOW TABLES\"\n",
    "\n",
    "tableNames = pd.read_sql(query_tableNames, conn)\n",
    "\n",
    "# Display the table names here:\n",
    "tableNames"
   ]
  },
  {
   "cell_type": "markdown",
   "metadata": {},
   "source": [
    "Step Three: Explore each Table\n",
    "\n",
    "Starting with academic_detail_modified Table"
   ]
  },
  {
   "cell_type": "code",
   "execution_count": 141,
   "metadata": {},
   "outputs": [
    {
     "name": "stdout",
     "output_type": "stream",
     "text": [
      "\n",
      "View The Structure of academic_detail_modified Table:\n",
      "            Field         Type Null Key Default Extra\n",
      "0            year          int  YES        None      \n",
      "1   academic_type  varchar(13)  YES        None      \n",
      "2  academic_level  varchar(29)  YES        None      \n",
      "3        students          int  YES        None      \n",
      "\n",
      "Retrieve all rows from academic_detail_modified Table:\n",
      "     year  academic_type                 academic_level  students\n",
      "0    1999  Undergraduate                    Associate's     59830\n",
      "1    1999  Undergraduate                     Bachelor's    177381\n",
      "2    1999       Graduate                       Master's    110857\n",
      "3    1999       Graduate                       Doctoral     72928\n",
      "4    1999       Graduate                   Professional      9475\n",
      "..    ...            ...                            ...       ...\n",
      "211  2022       Graduate                   Professional     17926\n",
      "212  2022       Graduate          Graduate, Unspecified     12877\n",
      "213  2022     Non-Degree  Non-Degree, Intensive English     10801\n",
      "214  2022     Non-Degree              Non-Degree, Other     32965\n",
      "215  2022            OPT                            OPT    198793\n",
      "\n",
      "[216 rows x 4 columns]\n"
     ]
    },
    {
     "name": "stderr",
     "output_type": "stream",
     "text": [
      "/var/folders/t1/yg1rln0x5bg97h_qn954mvlh0000gn/T/ipykernel_8919/1595660551.py:15: UserWarning: pandas only supports SQLAlchemy connectable (engine/connection) or database string URI or sqlite3 DBAPI2 connection. Other DBAPI2 objects are not tested. Please consider using SQLAlchemy.\n",
      "  X = pd.read_sql(q_1, conn)\n",
      "/var/folders/t1/yg1rln0x5bg97h_qn954mvlh0000gn/T/ipykernel_8919/1595660551.py:16: UserWarning: pandas only supports SQLAlchemy connectable (engine/connection) or database string URI or sqlite3 DBAPI2 connection. Other DBAPI2 objects are not tested. Please consider using SQLAlchemy.\n",
      "  X1 = pd.read_sql(q_2, conn)\n",
      "/var/folders/t1/yg1rln0x5bg97h_qn954mvlh0000gn/T/ipykernel_8919/1595660551.py:17: UserWarning: pandas only supports SQLAlchemy connectable (engine/connection) or database string URI or sqlite3 DBAPI2 connection. Other DBAPI2 objects are not tested. Please consider using SQLAlchemy.\n",
      "  X2 = pd.read_sql(q_3, conn)\n"
     ]
    },
    {
     "data": {
      "text/html": [
       "<div>\n",
       "<style scoped>\n",
       "    .dataframe tbody tr th:only-of-type {\n",
       "        vertical-align: middle;\n",
       "    }\n",
       "\n",
       "    .dataframe tbody tr th {\n",
       "        vertical-align: top;\n",
       "    }\n",
       "\n",
       "    .dataframe thead th {\n",
       "        text-align: right;\n",
       "    }\n",
       "</style>\n",
       "<table border=\"1\" class=\"dataframe\">\n",
       "  <thead>\n",
       "    <tr style=\"text-align: right;\">\n",
       "      <th></th>\n",
       "      <th>year</th>\n",
       "      <th>academic_type</th>\n",
       "      <th>academic_level</th>\n",
       "      <th>students</th>\n",
       "    </tr>\n",
       "  </thead>\n",
       "  <tbody>\n",
       "  </tbody>\n",
       "</table>\n",
       "</div>"
      ],
      "text/plain": [
       "Empty DataFrame\n",
       "Columns: [year, academic_type, academic_level, students]\n",
       "Index: []"
      ]
     },
     "execution_count": 141,
     "metadata": {},
     "output_type": "execute_result"
    }
   ],
   "source": [
    "\n",
    "q_1 = \"\"\"\n",
    "    DESCRIBE academic_detail_modified;\n",
    "\"\"\"\n",
    "\n",
    "q_2 = \"\"\"    \n",
    "    SELECT * FROM academic_detail_modified;\n",
    "\"\"\"\n",
    "\n",
    "q_3 = \"\"\"\n",
    "SELECT * FROM academic_detail_modified\n",
    "WHERE year IS NULL OR academic_type IS NULL OR academic_level IS NULL OR students IS NULL;\n",
    "\"\"\" \n",
    "\n",
    "# Execute the query\n",
    "X = pd.read_sql(q_1, conn)\n",
    "X1 = pd.read_sql(q_2, conn)\n",
    "X2 = pd.read_sql(q_3, conn)\n",
    "\n",
    "# Print or display the result\n",
    "print(\"\\nView The Structure of academic_detail_modified Table:\")\n",
    "print(X)\n",
    "\n",
    "print(\"\\nRetrieve all rows from academic_detail_modified Table:\")\n",
    "print(X1)\n",
    "\n",
    "X2.head(4)\n"
   ]
  },
  {
   "cell_type": "markdown",
   "metadata": {},
   "source": [
    "academic_modified Table"
   ]
  },
  {
   "cell_type": "code",
   "execution_count": 75,
   "metadata": {},
   "outputs": [
    {
     "name": "stdout",
     "output_type": "stream",
     "text": [
      "\n",
      "View The Structure of academic_modified Table:\n",
      "           Field   Type Null Key Default Extra\n",
      "0           year    int  YES        None      \n",
      "1       students    int  YES        None      \n",
      "2    us_students  float  YES        None      \n",
      "3  undergraduate  float  YES        None      \n",
      "4       graduate  float  YES        None      \n",
      "5     non_degree  float  YES        None      \n",
      "6            opt  float  YES        None      \n",
      "\n",
      "Retrieve all rows from academic_modified Table:\n",
      "    year  students  us_students  undergraduate  graduate  non_degree       opt\n",
      "0   1979    286343   11570000.0       172520.0   94130.0     16850.0    2840.0\n",
      "1   1980    311882   12097000.0       186660.0   99110.0     21660.0    3450.0\n",
      "2   1981    326299   12372000.0       195150.0  106290.0     21980.0    2880.0\n",
      "3   1982    336985   12426000.0       202760.0  110270.0     20340.0    3620.0\n",
      "4   1983    338894   12465000.0       197480.0  118820.0     19190.0    3400.0\n",
      "5   1984    342113   12242000.0       197640.0  122590.0     17570.0    4310.0\n",
      "6   1985    343777   12247000.0       187660.0  132430.0     19540.0    4150.0\n",
      "7   1986    349609   12504000.0       181230.0  146100.0     17550.0    4730.0\n",
      "8   1987    356187   12767000.0       176669.0  156366.0     18352.0    4800.0\n",
      "9   1988    366354   13055000.0       172551.0  165590.0     21189.0    7020.0\n",
      "10  1989    386851   13539000.0       184527.0  169827.0     24785.0    7712.0\n",
      "11  1990    407529   13819000.0       189900.0  182130.0     26730.0    8770.0\n",
      "12  1991    419585   14359000.0       197070.0  191330.0     22960.0    8230.0\n",
      "13  1992    438618   14487000.0       210080.0  193330.0     24200.0   11010.0\n",
      "14  1993    449749   14305000.0       213610.0  201030.0     23680.0   11430.0\n",
      "15  1994    452635   14279000.0       221500.0  191738.0     26188.0   13209.0\n",
      "16  1995    453787   14262000.0       218620.0  190092.0     29625.0   15450.0\n",
      "17  1996    457984   14368000.0       218743.0  190244.0     30872.0   18125.0\n",
      "18  1997    481280   14502000.0       223276.0  207510.0     33912.0   16582.0\n",
      "19  1998    490933   14507000.0       235802.0  211426.0     26863.0   16842.0\n",
      "20  1999    514723   14791000.0       237211.0  218219.0     34436.0   24857.0\n",
      "21  2000    547867   15312000.0       254429.0  238497.0     33883.0   21058.0\n",
      "22  2001    582996   15928000.0       261079.0  264749.0     34423.0   22745.0\n",
      "23  2002    586323   16612000.0       260103.0  267876.0     30551.0   27793.0\n",
      "24  2003    572509   16911000.0       248200.0  274310.0     20659.0   29340.0\n",
      "25  2004    565039   17272000.0       239212.0  264410.0     28418.0   32999.0\n",
      "26  2005    564766   17487000.0       236342.0  259717.0     30611.0   38096.0\n",
      "27  2006    582984   17672000.0       238050.0  264288.0     38986.0   41660.0\n",
      "28  2007    623805   18248000.0       243360.0  276842.0     46837.0   56766.0\n",
      "29  2008    671616   19103000.0       269874.0  283329.0     51812.0   66601.0\n",
      "30  2009    690923   20428000.0       274431.0  293885.0     54803.0   67804.0\n",
      "31  2010    723277   20550000.0       291439.0  296574.0     59233.0   76031.0\n",
      "32  2011    764495   20625000.0       309342.0  300430.0     69566.0   85157.0\n",
      "33  2012    819644   21253000.0       339993.0  311204.0     73528.0   94919.0\n",
      "34  2013    886052   21216000.0       370724.0  329854.0     79477.0  105997.0\n",
      "35  2014    974926   20300000.0       398824.0  362228.0     93587.0  120287.0\n",
      "36  2015   1043839   20264000.0       427313.0  383935.0     85093.0  147498.0\n",
      "37  2016   1078822   20185000.0       439019.0  391124.0     72984.0  175695.0\n",
      "38  2017   1094792   19831000.0       442746.0  382953.0     65631.0  203462.0\n",
      "39  2018   1095299   19828000.0       431930.0  377943.0     62341.0  223085.0\n",
      "40  2019   1075496   19720000.0       419321.0  374435.0     58201.0  223539.0\n",
      "41  2020    914095   19744000.0       359787.0  329272.0     21151.0  203885.0\n",
      "42  2021    948519   20327000.0       344532.0  385097.0     34131.0  184759.0\n",
      "43  2022   1057188   18961300.0       347602.0  467027.0     43766.0  198793.0\n"
     ]
    },
    {
     "name": "stderr",
     "output_type": "stream",
     "text": [
      "/var/folders/t1/yg1rln0x5bg97h_qn954mvlh0000gn/T/ipykernel_8919/46570023.py:11: UserWarning: pandas only supports SQLAlchemy connectable (engine/connection) or database string URI or sqlite3 DBAPI2 connection. Other DBAPI2 objects are not tested. Please consider using SQLAlchemy.\n",
      "  X3 = pd.read_sql(q_4, conn)\n",
      "/var/folders/t1/yg1rln0x5bg97h_qn954mvlh0000gn/T/ipykernel_8919/46570023.py:12: UserWarning: pandas only supports SQLAlchemy connectable (engine/connection) or database string URI or sqlite3 DBAPI2 connection. Other DBAPI2 objects are not tested. Please consider using SQLAlchemy.\n",
      "  X4 = pd.read_sql(q_5, conn)\n"
     ]
    }
   ],
   "source": [
    "q_4 = \"\"\"\n",
    "    DESCRIBE academic_modified;\n",
    "\"\"\"\n",
    "\n",
    "q_5 = \"\"\"    \n",
    "    SELECT * FROM academic_modified;\n",
    "\"\"\"\n",
    "\n",
    "\n",
    "# Execute the query\n",
    "X3 = pd.read_sql(q_4, conn)\n",
    "X4 = pd.read_sql(q_5, conn)\n",
    "\n",
    "# Print or display the result\n",
    "print(\"\\nView The Structure of academic_modified Table:\")\n",
    "print(X3)\n",
    "\n",
    "print(\"\\nRetrieve all rows from academic_modified Table:\")\n",
    "print(X4)\n",
    "\n"
   ]
  },
  {
   "cell_type": "markdown",
   "metadata": {},
   "source": [
    "field_of_study_modified Table"
   ]
  },
  {
   "cell_type": "code",
   "execution_count": 76,
   "metadata": {},
   "outputs": [
    {
     "name": "stdout",
     "output_type": "stream",
     "text": [
      "\n",
      "View The Structure of field_of_study_modified Table:\n",
      "            Field         Type Null Key Default Extra\n",
      "0            year          int  YES        None      \n",
      "1  field_of_study  varchar(33)  YES        None      \n",
      "2           major  varchar(52)  YES        None      \n",
      "3        students       double  YES        None      \n",
      "\n",
      "Retrieve all rows from field_of_study_modified Table:\n",
      "      year                 field_of_study  \\\n",
      "0     1998                    Agriculture   \n",
      "1     1998                    Agriculture   \n",
      "2     1998        Business and Management   \n",
      "3     1998  Communications and Journalism   \n",
      "4     1998  Communications and Journalism   \n",
      "...    ...                            ...   \n",
      "1032  2022                Social Sciences   \n",
      "1033  2022                Social Sciences   \n",
      "1034  2022                Social Sciences   \n",
      "1035  2022                Social Sciences   \n",
      "1036  2022                     Undeclared   \n",
      "\n",
      "                                                  major  students  \n",
      "0                                           Agriculture    6146.0  \n",
      "1                    Natural Resources and Conservation    1803.0  \n",
      "2                               Business and Management  101360.0  \n",
      "3                             Communication, Journalism    9473.0  \n",
      "4               Communications Technologies/Technicians    1761.0  \n",
      "...                                                 ...       ...  \n",
      "1032                                            History    2551.0  \n",
      "1033                                         Psychology   18474.0  \n",
      "1034  Public Administration and Social Service Profe...    8483.0  \n",
      "1035                                    Social Sciences   53998.0  \n",
      "1036                                         Undeclared   17910.0  \n",
      "\n",
      "[1037 rows x 4 columns]\n"
     ]
    },
    {
     "name": "stderr",
     "output_type": "stream",
     "text": [
      "/var/folders/t1/yg1rln0x5bg97h_qn954mvlh0000gn/T/ipykernel_8919/1398189091.py:11: UserWarning: pandas only supports SQLAlchemy connectable (engine/connection) or database string URI or sqlite3 DBAPI2 connection. Other DBAPI2 objects are not tested. Please consider using SQLAlchemy.\n",
      "  X5 = pd.read_sql(q_6, conn)\n",
      "/var/folders/t1/yg1rln0x5bg97h_qn954mvlh0000gn/T/ipykernel_8919/1398189091.py:12: UserWarning: pandas only supports SQLAlchemy connectable (engine/connection) or database string URI or sqlite3 DBAPI2 connection. Other DBAPI2 objects are not tested. Please consider using SQLAlchemy.\n",
      "  X6 = pd.read_sql(q_7, conn)\n"
     ]
    }
   ],
   "source": [
    "q_6 = \"\"\"\n",
    "    DESCRIBE field_of_study_modified;\n",
    "\"\"\"\n",
    "\n",
    "q_7 = \"\"\"    \n",
    "    SELECT * FROM field_of_study_modified;\n",
    "\"\"\"\n",
    "\n",
    "\n",
    "# Execute the query\n",
    "X5 = pd.read_sql(q_6, conn)\n",
    "X6 = pd.read_sql(q_7, conn)\n",
    "\n",
    "# Print or display the result\n",
    "print(\"\\nView The Structure of field_of_study_modified Table:\")\n",
    "print(X5)\n",
    "\n",
    "print(\"\\nRetrieve all rows from field_of_study_modified Table:\")\n",
    "print(X6)\n"
   ]
  },
  {
   "cell_type": "markdown",
   "metadata": {},
   "source": [
    "origin_modified Table "
   ]
  },
  {
   "cell_type": "code",
   "execution_count": 77,
   "metadata": {},
   "outputs": [
    {
     "name": "stdout",
     "output_type": "stream",
     "text": [
      "\n",
      "View The Structure of origin_modified Table:\n",
      "           Field         Type Null Key Default Extra\n",
      "0           year          int  YES        None      \n",
      "1  origin_region  varchar(27)  YES        None      \n",
      "2         origin  varchar(40)  YES        None      \n",
      "3  academic_type  varchar(13)  YES        None      \n",
      "4       students          int  YES        None      \n",
      "\n",
      "Retrieve all rows from origin_modified Table:\n",
      "     year           origin_region                           origin  \\\n",
      "0    2000      Africa, Subsaharan  Africa, Subsaharan, Unspecified   \n",
      "1    2000      Africa, Subsaharan  Africa, Subsaharan, Unspecified   \n",
      "2    2000      Africa, Subsaharan  Africa, Subsaharan, Unspecified   \n",
      "3    2000                    Asia                Asia, Unspecified   \n",
      "4    2000                    Asia                Asia, Unspecified   \n",
      "..    ...                     ...                              ...   \n",
      "578  2000  South and Central Asia                       Uzbekistan   \n",
      "579  2000          Southeast Asia                           Brunei   \n",
      "580  2000          Southeast Asia                           Brunei   \n",
      "581  2000          Southeast Asia                           Brunei   \n",
      "582  2000          Southeast Asia                    Burma/Myanmar   \n",
      "\n",
      "     academic_type  students  \n",
      "0         Graduate         2  \n",
      "1            Other         0  \n",
      "2    Undergraduate         6  \n",
      "3         Graduate         0  \n",
      "4            Other         6  \n",
      "..             ...       ...  \n",
      "578  Undergraduate       249  \n",
      "579       Graduate         6  \n",
      "580          Other         2  \n",
      "581  Undergraduate        17  \n",
      "582       Graduate       136  \n",
      "\n",
      "[583 rows x 5 columns]\n"
     ]
    },
    {
     "name": "stderr",
     "output_type": "stream",
     "text": [
      "/var/folders/t1/yg1rln0x5bg97h_qn954mvlh0000gn/T/ipykernel_8919/1415409239.py:11: UserWarning: pandas only supports SQLAlchemy connectable (engine/connection) or database string URI or sqlite3 DBAPI2 connection. Other DBAPI2 objects are not tested. Please consider using SQLAlchemy.\n",
      "  X7 = pd.read_sql(q_8, conn)\n",
      "/var/folders/t1/yg1rln0x5bg97h_qn954mvlh0000gn/T/ipykernel_8919/1415409239.py:12: UserWarning: pandas only supports SQLAlchemy connectable (engine/connection) or database string URI or sqlite3 DBAPI2 connection. Other DBAPI2 objects are not tested. Please consider using SQLAlchemy.\n",
      "  X8 = pd.read_sql(q_9, conn)\n"
     ]
    }
   ],
   "source": [
    "q_8 = \"\"\"\n",
    "    DESCRIBE origin_modified;\n",
    "\"\"\"\n",
    "\n",
    "q_9 = \"\"\"    \n",
    "    SELECT * FROM origin_modified;\n",
    "\"\"\"\n",
    "\n",
    "\n",
    "# Execute the query\n",
    "X7 = pd.read_sql(q_8, conn)\n",
    "X8 = pd.read_sql(q_9, conn)\n",
    "\n",
    "# Print or display the result\n",
    "print(\"\\nView The Structure of origin_modified Table:\")\n",
    "print(X7)\n",
    "\n",
    "print(\"\\nRetrieve all rows from origin_modified Table:\")\n",
    "print(X8)\n"
   ]
  },
  {
   "cell_type": "code",
   "execution_count": null,
   "metadata": {},
   "outputs": [],
   "source": []
  },
  {
   "cell_type": "markdown",
   "metadata": {},
   "source": [
    "source_of_fund_modified Table"
   ]
  },
  {
   "cell_type": "code",
   "execution_count": 78,
   "metadata": {},
   "outputs": [
    {
     "name": "stdout",
     "output_type": "stream",
     "text": [
      "\n",
      "View The Structure of source_of_fund_modified Table:\n",
      "            Field         Type Null Key Default Extra\n",
      "0            year          int  YES        None      \n",
      "1   academic_type  varchar(13)  YES        None      \n",
      "2     source_type  varchar(13)  YES        None      \n",
      "3  source_of_fund  varchar(32)  YES        None      \n",
      "4        students          int  YES        None      \n",
      "\n",
      "Retrieve all rows from source_of_fund_modified Table:\n",
      "     year  academic_type    source_type                    source_of_fund  \\\n",
      "0    1999  Undergraduate  International               Personal and Family   \n",
      "1    1999  Undergraduate  International  Foreign Government or University   \n",
      "2    1999  Undergraduate  International           Foreign Private Sponsor   \n",
      "3    1999  Undergraduate  International        International Organization   \n",
      "4    1999  Undergraduate           U.S.                Current Employment   \n",
      "..    ...            ...            ...                               ...   \n",
      "796  2022            OPT           U.S.                Current Employment   \n",
      "797  2022            OPT           U.S.        U.S. College or University   \n",
      "798  2022            OPT           U.S.                   U.S. Government   \n",
      "799  2022            OPT           U.S.              U.S. Private Sponsor   \n",
      "800  2022            OPT          Other                     Other Sources   \n",
      "\n",
      "     students  \n",
      "0      201578  \n",
      "1        9742  \n",
      "2        6245  \n",
      "3         749  \n",
      "4         749  \n",
      "..        ...  \n",
      "796    198793  \n",
      "797         0  \n",
      "798         0  \n",
      "799         0  \n",
      "800         0  \n",
      "\n",
      "[801 rows x 5 columns]\n"
     ]
    },
    {
     "name": "stderr",
     "output_type": "stream",
     "text": [
      "/var/folders/t1/yg1rln0x5bg97h_qn954mvlh0000gn/T/ipykernel_8919/3039768853.py:11: UserWarning: pandas only supports SQLAlchemy connectable (engine/connection) or database string URI or sqlite3 DBAPI2 connection. Other DBAPI2 objects are not tested. Please consider using SQLAlchemy.\n",
      "  X9 = pd.read_sql(q_10, conn)\n",
      "/var/folders/t1/yg1rln0x5bg97h_qn954mvlh0000gn/T/ipykernel_8919/3039768853.py:12: UserWarning: pandas only supports SQLAlchemy connectable (engine/connection) or database string URI or sqlite3 DBAPI2 connection. Other DBAPI2 objects are not tested. Please consider using SQLAlchemy.\n",
      "  X10 = pd.read_sql(q_11, conn)\n"
     ]
    }
   ],
   "source": [
    "q_10 = \"\"\"\n",
    "    DESCRIBE source_of_fund_modified;\n",
    "\"\"\"\n",
    "\n",
    "q_11 = \"\"\"    \n",
    "    SELECT * FROM source_of_fund_modified;\n",
    "\"\"\"\n",
    "\n",
    "\n",
    "# Execute the query\n",
    "X9 = pd.read_sql(q_10, conn)\n",
    "X10 = pd.read_sql(q_11, conn)\n",
    "\n",
    "# Print or display the result\n",
    "print(\"\\nView The Structure of source_of_fund_modified Table:\")\n",
    "print(X9)\n",
    "\n",
    "print(\"\\nRetrieve all rows from source_of_fund_modified Table:\")\n",
    "print(X10)"
   ]
  },
  {
   "cell_type": "markdown",
   "metadata": {},
   "source": [
    "status_modified Table"
   ]
  },
  {
   "cell_type": "code",
   "execution_count": 79,
   "metadata": {},
   "outputs": [
    {
     "name": "stdout",
     "output_type": "stream",
     "text": [
      "\n",
      "View The Structure of status_modified Table:\n",
      "        Field    Type Null Key Default Extra\n",
      "0        year     int  YES        None      \n",
      "1      female  double  YES        None      \n",
      "2        male  double  YES        None      \n",
      "3      single  double  YES        None      \n",
      "4     married  double  YES        None      \n",
      "5   full_time  double  YES        None      \n",
      "6   part_time  double  YES        None      \n",
      "7      visa_f  double  YES        None      \n",
      "8      visa_j  double  YES        None      \n",
      "9  visa_other  double  YES        None      \n",
      "\n",
      "Retrieve all rows from status_modified Table:\n",
      "    year    female      male     single   married  full_time  part_time  \\\n",
      "0   2007  278841.0  344964.0   543958.0   79847.0   575772.0    48033.0   \n",
      "1   2008  304242.0  367374.0   591694.0   79922.0   613185.0    58431.0   \n",
      "2   2009  309534.0  381389.0   615612.0   75311.0   637722.0    53201.0   \n",
      "3   2010  322582.0  400695.0   653842.0   69435.0   669031.0    54246.0   \n",
      "4   2011  338671.0  425824.0   690339.0   74156.0   714038.0    50457.0   \n",
      "5   2012  363922.0  455722.0   744237.0   75407.0   769646.0    49998.0   \n",
      "6   2013  390749.0  495303.0   806307.0   79745.0   829345.0    56707.0   \n",
      "7   2014  426043.0  548883.0   886208.0   88718.0   912531.0    62395.0   \n",
      "8   2015  451982.0  591857.0   950937.0   92902.0   971814.0    72025.0   \n",
      "9   2016  470366.0  608456.0   970940.0  107882.0  1007620.0    71202.0   \n",
      "10  2017  477329.0  617463.0   999545.0   95247.0  1028010.0    66782.0   \n",
      "11  2018  480836.0  614463.0  1002199.0   93100.0  1030676.0    64623.0   \n",
      "12  2019  477520.0  597976.0   987305.0   88191.0  1016344.0    59152.0   \n",
      "13  2020  407686.0  506409.0   827256.0   86839.0   843710.0    70385.0   \n",
      "14  2021  428731.0  519788.0   861255.0   87264.0   884020.0    64499.0   \n",
      "15  2022  473620.0  583568.0   966270.0   90918.0   986356.0    70832.0   \n",
      "\n",
      "       visa_f   visa_j  visa_other  \n",
      "0    552691.0  31814.0     39300.0  \n",
      "1    589007.0  39625.0     42984.0  \n",
      "2    612158.0  38692.0     40073.0  \n",
      "3    645163.0  40504.0     37610.0  \n",
      "4    688810.0  42047.0     33638.0  \n",
      "5    747515.0  42621.0     29508.0  \n",
      "6    804535.0  49619.0     31898.0  \n",
      "7    881333.0  58496.0     35097.0  \n",
      "8    957200.0  52192.0     34447.0  \n",
      "9    994674.0  45311.0     38837.0  \n",
      "10  1015967.0  44886.0     33939.0  \n",
      "11  1018628.0  44907.0     31764.0  \n",
      "12  1000211.0  44095.0     31190.0  \n",
      "13   860163.0  16454.0     37478.0  \n",
      "14   884020.0  27507.0     36992.0  \n",
      "15   989528.0  34887.0     32773.0  \n"
     ]
    },
    {
     "name": "stderr",
     "output_type": "stream",
     "text": [
      "/var/folders/t1/yg1rln0x5bg97h_qn954mvlh0000gn/T/ipykernel_8919/1247241560.py:11: UserWarning: pandas only supports SQLAlchemy connectable (engine/connection) or database string URI or sqlite3 DBAPI2 connection. Other DBAPI2 objects are not tested. Please consider using SQLAlchemy.\n",
      "  X11 = pd.read_sql(q_12, conn)\n",
      "/var/folders/t1/yg1rln0x5bg97h_qn954mvlh0000gn/T/ipykernel_8919/1247241560.py:12: UserWarning: pandas only supports SQLAlchemy connectable (engine/connection) or database string URI or sqlite3 DBAPI2 connection. Other DBAPI2 objects are not tested. Please consider using SQLAlchemy.\n",
      "  X12 = pd.read_sql(q_13, conn)\n"
     ]
    }
   ],
   "source": [
    "q_12 = \"\"\"\n",
    "    DESCRIBE status_modified;\n",
    "\"\"\"\n",
    "\n",
    "q_13 = \"\"\"    \n",
    "    SELECT * FROM status_modified;\n",
    "\"\"\"\n",
    "\n",
    "\n",
    "# Execute the query\n",
    "X11 = pd.read_sql(q_12, conn)\n",
    "X12 = pd.read_sql(q_13, conn)\n",
    "\n",
    "# Print or display the result\n",
    "print(\"\\nView The Structure of status_modified Table:\")\n",
    "print(X11)\n",
    "\n",
    "print(\"\\nRetrieve all rows from status_modified Table:\")\n",
    "print(X12)"
   ]
  },
  {
   "cell_type": "markdown",
   "metadata": {},
   "source": [
    "academic_detail_modified:\n",
    "\n",
    "What is the distribution of students across different academic details?\n",
    "\n",
    "How many students are enrolled in each academic program?\n",
    "\n"
   ]
  },
  {
   "cell_type": "code",
   "execution_count": 107,
   "metadata": {},
   "outputs": [
    {
     "name": "stdout",
     "output_type": "stream",
     "text": [
      "\n",
      "Distribution of students across different academic programs:\n",
      "   academic_type  student_count\n",
      "0  Undergraduate             48\n",
      "1       Graduate             96\n",
      "2     Non-Degree             48\n",
      "3            OPT             24\n"
     ]
    },
    {
     "name": "stderr",
     "output_type": "stream",
     "text": [
      "/var/folders/t1/yg1rln0x5bg97h_qn954mvlh0000gn/T/ipykernel_8919/2775953364.py:9: UserWarning: pandas only supports SQLAlchemy connectable (engine/connection) or database string URI or sqlite3 DBAPI2 connection. Other DBAPI2 objects are not tested. Please consider using SQLAlchemy.\n",
      "  academic_program_distribution = pd.read_sql(q_a, conn)\n"
     ]
    }
   ],
   "source": [
    "\n",
    "# SQL query to get the distribution of students across different academic details\n",
    "q_a = \"\"\"\n",
    "    SELECT academic_type, COUNT(academic_type) as student_count\n",
    "    FROM academic_detail_modified\n",
    "    GROUP BY academic_type;\n",
    "\"\"\"\n",
    "\n",
    "# Execute the query\n",
    "academic_program_distribution = pd.read_sql(q_a, conn)\n",
    "\n",
    "# Print or display the result\n",
    "print(\"\\nDistribution of students across different academic programs:\")\n",
    "print(academic_program_distribution)\n"
   ]
  },
  {
   "cell_type": "markdown",
   "metadata": {},
   "source": [
    "academic_modified:\n",
    "\n",
    "What is the overall academic performance distribution of students?\n",
    "\n"
   ]
  },
  {
   "cell_type": "markdown",
   "metadata": {},
   "source": [
    "How has the overall student enrollment changed over the years?"
   ]
  },
  {
   "cell_type": "code",
   "execution_count": 81,
   "metadata": {},
   "outputs": [
    {
     "name": "stdout",
     "output_type": "stream",
     "text": [
      "\n",
      "Distribution of students across different academic programs:\n",
      "    year  total_students\n",
      "0   1979               1\n",
      "1   1980               1\n",
      "2   1981               1\n",
      "3   1982               1\n",
      "4   1983               1\n",
      "5   1984               1\n",
      "6   1985               1\n",
      "7   1986               1\n",
      "8   1987               1\n",
      "9   1988               1\n",
      "10  1989               1\n",
      "11  1990               1\n",
      "12  1991               1\n",
      "13  1992               1\n",
      "14  1993               1\n",
      "15  1994               1\n",
      "16  1995               1\n",
      "17  1996               1\n",
      "18  1997               1\n",
      "19  1998               1\n",
      "20  1999               1\n",
      "21  2000               1\n",
      "22  2001               1\n",
      "23  2002               1\n",
      "24  2003               1\n",
      "25  2004               1\n",
      "26  2005               1\n",
      "27  2006               1\n",
      "28  2007               1\n",
      "29  2008               1\n",
      "30  2009               1\n",
      "31  2010               1\n",
      "32  2011               1\n",
      "33  2012               1\n",
      "34  2013               1\n",
      "35  2014               1\n",
      "36  2015               1\n",
      "37  2016               1\n",
      "38  2017               1\n",
      "39  2018               1\n",
      "40  2019               1\n",
      "41  2020               1\n",
      "42  2021               1\n",
      "43  2022               1\n"
     ]
    },
    {
     "name": "stderr",
     "output_type": "stream",
     "text": [
      "/var/folders/t1/yg1rln0x5bg97h_qn954mvlh0000gn/T/ipykernel_8919/2983271692.py:11: UserWarning: pandas only supports SQLAlchemy connectable (engine/connection) or database string URI or sqlite3 DBAPI2 connection. Other DBAPI2 objects are not tested. Please consider using SQLAlchemy.\n",
      "  academic_program_distribution = pd.read_sql(q_b, conn)\n"
     ]
    }
   ],
   "source": [
    "q_b = \"\"\"\n",
    "   SELECT\n",
    "    year,\n",
    "    COUNT(*) AS total_students\n",
    "    FROM academic_modified\n",
    "    GROUP BY year\n",
    "    ORDER BY year;\n",
    "\"\"\"\n",
    "\n",
    "# Execute the query\n",
    "academic_program_distribution = pd.read_sql(q_b, conn)\n",
    "\n",
    "# Print or display the result\n",
    "print(\"\\nDistribution of students across different academic programs:\")\n",
    "print(academic_program_distribution)\n",
    "\n"
   ]
  },
  {
   "cell_type": "markdown",
   "metadata": {},
   "source": [
    "What are the most popular fields of study among students?\n",
    "\n",
    "How many students are enrolled in each field of study?"
   ]
  },
  {
   "cell_type": "code",
   "execution_count": 126,
   "metadata": {},
   "outputs": [
    {
     "name": "stdout",
     "output_type": "stream",
     "text": [
      "\n",
      "Distribution of students across different academic programs:\n",
      "            field_of_study  student_count\n",
      "0  Business and Management             25\n",
      "1        Intensive English             25\n",
      "2                Education             25\n",
      "3               Undeclared             25\n",
      "4       Health Professions             44\n"
     ]
    },
    {
     "name": "stderr",
     "output_type": "stream",
     "text": [
      "/var/folders/t1/yg1rln0x5bg97h_qn954mvlh0000gn/T/ipykernel_8919/1364498402.py:10: UserWarning: pandas only supports SQLAlchemy connectable (engine/connection) or database string URI or sqlite3 DBAPI2 connection. Other DBAPI2 objects are not tested. Please consider using SQLAlchemy.\n",
      "  academic_program_distribution = pd.read_sql(q_E, conn)\n"
     ]
    }
   ],
   "source": [
    "q_E = \"\"\"\n",
    "   SELECT field_of_study, COUNT(*) as student_count\n",
    "    FROM field_of_study_modified\n",
    "    GROUP BY field_of_study\n",
    "    ORDER BY student_count ASC\n",
    "    Limit 5;\n",
    "\"\"\"\n",
    "\n",
    "# Execute the query\n",
    "academic_program_distribution = pd.read_sql(q_E, conn)\n",
    "\n",
    "# Print or display the result\n",
    "print(\"\\nDistribution of students across different academic programs:\")\n",
    "print(academic_program_distribution)\n"
   ]
  },
  {
   "cell_type": "code",
   "execution_count": 124,
   "metadata": {},
   "outputs": [
    {
     "name": "stdout",
     "output_type": "stream",
     "text": [
      "\n",
      "Distribution of students across different academic programs:\n",
      "               field_of_study  student_count\n",
      "0                 Engineering            175\n",
      "1       Other Fields of Study            174\n",
      "2             Social Sciences            119\n",
      "3                  Humanities            100\n",
      "4  Physical and Life Sciences             75\n"
     ]
    },
    {
     "name": "stderr",
     "output_type": "stream",
     "text": [
      "/var/folders/t1/yg1rln0x5bg97h_qn954mvlh0000gn/T/ipykernel_8919/828690591.py:10: UserWarning: pandas only supports SQLAlchemy connectable (engine/connection) or database string URI or sqlite3 DBAPI2 connection. Other DBAPI2 objects are not tested. Please consider using SQLAlchemy.\n",
      "  academic_program_distribution = pd.read_sql(q_E, conn)\n"
     ]
    }
   ],
   "source": [
    "q_E = \"\"\"\n",
    "   SELECT field_of_study, COUNT(*) as student_count\n",
    "    FROM field_of_study_modified\n",
    "    GROUP BY field_of_study\n",
    "    ORDER BY student_count DESC\n",
    "    Limit 5;\n",
    "\"\"\"\n",
    "\n",
    "# Execute the query\n",
    "academic_program_distribution = pd.read_sql(q_E, conn)\n",
    "\n",
    "# Print or display the result\n",
    "print(\"\\nDistribution of students across different academic programs:\")\n",
    "print(academic_program_distribution)"
   ]
  },
  {
   "cell_type": "markdown",
   "metadata": {},
   "source": [
    "What is the diversity of student origins in the database?\n",
    "\n",
    "How many students come from each origin?"
   ]
  },
  {
   "cell_type": "code",
   "execution_count": 82,
   "metadata": {},
   "outputs": [
    {
     "name": "stdout",
     "output_type": "stream",
     "text": [
      "\n",
      "Distribution of students across different academic programs:\n",
      "                              origin  student_count\n",
      "0    Africa, Subsaharan, Unspecified              3\n",
      "1                  Asia, Unspecified              3\n",
      "2                           Anguilla              3\n",
      "3                Antigua and Barbuda              3\n",
      "4                              Aruba              3\n",
      "..                               ...            ...\n",
      "190                       Tajikistan              3\n",
      "191                     Turkmenistan              3\n",
      "192                       Uzbekistan              3\n",
      "193                           Brunei              3\n",
      "194                    Burma/Myanmar              1\n",
      "\n",
      "[195 rows x 2 columns]\n"
     ]
    },
    {
     "name": "stderr",
     "output_type": "stream",
     "text": [
      "/var/folders/t1/yg1rln0x5bg97h_qn954mvlh0000gn/T/ipykernel_8919/2695706700.py:8: UserWarning: pandas only supports SQLAlchemy connectable (engine/connection) or database string URI or sqlite3 DBAPI2 connection. Other DBAPI2 objects are not tested. Please consider using SQLAlchemy.\n",
      "  academic_program_distribution = pd.read_sql(q_c, conn)\n"
     ]
    }
   ],
   "source": [
    "\n",
    "\n",
    "q_c = \"\"\"\n",
    "    SELECT origin, COUNT(*) as student_count\n",
    "    FROM origin_modified\n",
    "    GROUP BY origin;\n",
    "\"\"\"\n",
    "\n",
    "# Execute the query\n",
    "academic_program_distribution = pd.read_sql(q_c, conn)\n",
    "\n",
    "# Print or display the result\n",
    "print(\"\\nDistribution of students across different academic programs:\")\n",
    "print(academic_program_distribution)\n"
   ]
  },
  {
   "cell_type": "markdown",
   "metadata": {},
   "source": [
    "What are the primary sources of funding for students?\n",
    "\n",
    "How many students are funded by each source?"
   ]
  },
  {
   "cell_type": "code",
   "execution_count": 83,
   "metadata": {},
   "outputs": [
    {
     "name": "stdout",
     "output_type": "stream",
     "text": [
      "\n",
      "Distribution of students across different academic programs:\n",
      "                     source_of_fund  student_count\n",
      "0               Personal and Family             89\n",
      "1  Foreign Government or University             89\n",
      "2           Foreign Private Sponsor             89\n",
      "3        International Organization             89\n",
      "4                Current Employment             89\n",
      "5        U.S. College or University             89\n",
      "6                   U.S. Government             89\n",
      "7              U.S. Private Sponsor             89\n",
      "8                     Other Sources             89\n"
     ]
    },
    {
     "name": "stderr",
     "output_type": "stream",
     "text": [
      "/var/folders/t1/yg1rln0x5bg97h_qn954mvlh0000gn/T/ipykernel_8919/1927938138.py:8: UserWarning: pandas only supports SQLAlchemy connectable (engine/connection) or database string URI or sqlite3 DBAPI2 connection. Other DBAPI2 objects are not tested. Please consider using SQLAlchemy.\n",
      "  academic_program_distribution = pd.read_sql(q_d, conn)\n"
     ]
    }
   ],
   "source": [
    "\n",
    "\n",
    "q_d = \"\"\"\n",
    "    SELECT source_of_fund, COUNT(*) as student_count\n",
    "    FROM source_of_fund_modified\n",
    "    GROUP BY source_of_fund;\n",
    "\"\"\"\n",
    "\n",
    "# Execute the query\n",
    "academic_program_distribution = pd.read_sql(q_d, conn)\n",
    "\n",
    "# Print or display the result\n",
    "print(\"\\nDistribution of students across different academic programs:\")\n",
    "print(academic_program_distribution)\n"
   ]
  },
  {
   "cell_type": "markdown",
   "metadata": {},
   "source": [
    "What is the distribution of student statuses (e.g., active, graduated)?\n",
    "\n",
    "Male, Female, single, married?"
   ]
  },
  {
   "cell_type": "code",
   "execution_count": 85,
   "metadata": {},
   "outputs": [
    {
     "name": "stdout",
     "output_type": "stream",
     "text": [
      "\n",
      "Distribution of students status:\n",
      "   female_count  male_count\n",
      "0     6402654.0   8060134.0\n"
     ]
    },
    {
     "name": "stderr",
     "output_type": "stream",
     "text": [
      "/var/folders/t1/yg1rln0x5bg97h_qn954mvlh0000gn/T/ipykernel_8919/3161076624.py:9: UserWarning: pandas only supports SQLAlchemy connectable (engine/connection) or database string URI or sqlite3 DBAPI2 connection. Other DBAPI2 objects are not tested. Please consider using SQLAlchemy.\n",
      "  student_status_distribution = pd.read_sql(q_e, conn)\n"
     ]
    }
   ],
   "source": [
    "q_e = \"\"\"\n",
    "    SELECT\n",
    "    SUM(female) AS female_count,\n",
    "    SUM(male) AS male_count\n",
    "    FROM status_modified;\n",
    "\"\"\"\n",
    "\n",
    "# Execute the query\n",
    "student_gender_distribution = pd.read_sql(q_e, conn)\n",
    "\n",
    "# Print or display the result\n",
    "print(\"\\nDistribution of students status:\")\n",
    "print(student_gender_distribution)\n"
   ]
  },
  {
   "cell_type": "code",
   "execution_count": 86,
   "metadata": {},
   "outputs": [
    {
     "name": "stdout",
     "output_type": "stream",
     "text": [
      "\n",
      "Distribution of students across different academic programs:\n",
      "   single_count  married_count\n",
      "0    13097904.0      1364884.0\n"
     ]
    },
    {
     "name": "stderr",
     "output_type": "stream",
     "text": [
      "/var/folders/t1/yg1rln0x5bg97h_qn954mvlh0000gn/T/ipykernel_8919/1751707867.py:9: UserWarning: pandas only supports SQLAlchemy connectable (engine/connection) or database string URI or sqlite3 DBAPI2 connection. Other DBAPI2 objects are not tested. Please consider using SQLAlchemy.\n",
      "  student_status_distribution = pd.read_sql(q_f, conn)\n"
     ]
    }
   ],
   "source": [
    "\n",
    "q_f = \"\"\"\n",
    "    SELECT\n",
    "    SUM(single) AS single_count,\n",
    "    SUM(married) AS married_count\n",
    "    FROM status_modified;\n",
    "\"\"\"\n",
    "\n",
    "# Execute the query\n",
    "student_status_distribution = pd.read_sql(q_f, conn)\n",
    "\n",
    "# Print or display the result\n",
    "print(\"\\nDistribution of students across different academic programs:\")\n",
    "print(student_status_distribution)"
   ]
  },
  {
   "cell_type": "markdown",
   "metadata": {},
   "source": [
    "What most gender graduated with bachelor's degree?\n"
   ]
  },
  {
   "cell_type": "code",
   "execution_count": 134,
   "metadata": {},
   "outputs": [
    {
     "name": "stdout",
     "output_type": "stream",
     "text": [
      "\n",
      "Total number of people with Bachelor's degree by gender:\n",
      "  academic_level  total_male  total_female\n",
      "0     Bachelor's   8060134.0     6402654.0\n"
     ]
    },
    {
     "name": "stderr",
     "output_type": "stream",
     "text": [
      "/var/folders/t1/yg1rln0x5bg97h_qn954mvlh0000gn/T/ipykernel_8919/305912965.py:12: UserWarning: pandas only supports SQLAlchemy connectable (engine/connection) or database string URI or sqlite3 DBAPI2 connection. Other DBAPI2 objects are not tested. Please consider using SQLAlchemy.\n",
      "  total_bachelors_by_gender = pd.read_sql(q_h, conn)\n"
     ]
    }
   ],
   "source": [
    "q_h = \"\"\"\n",
    "    SELECT a.academic_level,\n",
    "        SUM(s.male) AS total_male,\n",
    "        SUM(s.female) AS total_female\n",
    "    FROM status_modified s\n",
    "    JOIN academic_detail_modified a ON s.year = a.year\n",
    "    WHERE a.academic_level = 'Bachelor''s'\n",
    "    GROUP BY a.academic_level;\n",
    "\"\"\"\n",
    "\n",
    "# Execute the query\n",
    "total_bachelors_by_gender = pd.read_sql(q_h, conn)\n",
    "\n",
    "# Print or display the result\n",
    "print(\"\\nTotal number of people with Bachelor's degree by gender:\")\n",
    "print(total_bachelors_by_gender)\n"
   ]
  },
  {
   "cell_type": "markdown",
   "metadata": {},
   "source": [
    "How many female graduates with master and bachelor's degree?\n"
   ]
  },
  {
   "cell_type": "code",
   "execution_count": 105,
   "metadata": {},
   "outputs": [
    {
     "name": "stderr",
     "output_type": "stream",
     "text": [
      "/var/folders/t1/yg1rln0x5bg97h_qn954mvlh0000gn/T/ipykernel_8919/2055503846.py:13: UserWarning: pandas only supports SQLAlchemy connectable (engine/connection) or database string URI or sqlite3 DBAPI2 connection. Other DBAPI2 objects are not tested. Please consider using SQLAlchemy.\n",
      "  female_graduates = pd.read_sql(q_i, conn)\n"
     ]
    },
    {
     "ename": "DatabaseError",
     "evalue": "Execution failed on sql '\n    SELECT \n        a.academic_level,\n        SUM(s.female) AS female_count\n    FROM status_modified s\n    JOIN academic_detail_modified a ON s.academic_detail_modified_column = a.academic_detail_modified_column\n    WHERE a.academic_level IN ('Bachelor''s', 'Master''s')\n    GROUP BY a.academic_level;\n': (1054, \"Unknown column 's.academic_detail_modified_column' in 'on clause'\")",
     "output_type": "error",
     "traceback": [
      "\u001b[0;31m---------------------------------------------------------------------------\u001b[0m",
      "\u001b[0;31mOperationalError\u001b[0m                          Traceback (most recent call last)",
      "\u001b[0;32m~/opt/anaconda3/lib/python3.9/site-packages/pandas/io/sql.py\u001b[0m in \u001b[0;36mexecute\u001b[0;34m(self, sql, params)\u001b[0m\n\u001b[1;32m   2201\u001b[0m         \u001b[0;32mtry\u001b[0m\u001b[0;34m:\u001b[0m\u001b[0;34m\u001b[0m\u001b[0;34m\u001b[0m\u001b[0m\n\u001b[0;32m-> 2202\u001b[0;31m             \u001b[0mcur\u001b[0m\u001b[0;34m.\u001b[0m\u001b[0mexecute\u001b[0m\u001b[0;34m(\u001b[0m\u001b[0msql\u001b[0m\u001b[0;34m,\u001b[0m \u001b[0;34m*\u001b[0m\u001b[0margs\u001b[0m\u001b[0;34m)\u001b[0m\u001b[0;34m\u001b[0m\u001b[0;34m\u001b[0m\u001b[0m\n\u001b[0m\u001b[1;32m   2203\u001b[0m             \u001b[0;32mreturn\u001b[0m \u001b[0mcur\u001b[0m\u001b[0;34m\u001b[0m\u001b[0;34m\u001b[0m\u001b[0m\n",
      "\u001b[0;32m~/opt/anaconda3/lib/python3.9/site-packages/pymysql/cursors.py\u001b[0m in \u001b[0;36mexecute\u001b[0;34m(self, query, args)\u001b[0m\n\u001b[1;32m    157\u001b[0m \u001b[0;34m\u001b[0m\u001b[0m\n\u001b[0;32m--> 158\u001b[0;31m         \u001b[0mresult\u001b[0m \u001b[0;34m=\u001b[0m \u001b[0mself\u001b[0m\u001b[0;34m.\u001b[0m\u001b[0m_query\u001b[0m\u001b[0;34m(\u001b[0m\u001b[0mquery\u001b[0m\u001b[0;34m)\u001b[0m\u001b[0;34m\u001b[0m\u001b[0;34m\u001b[0m\u001b[0m\n\u001b[0m\u001b[1;32m    159\u001b[0m         \u001b[0mself\u001b[0m\u001b[0;34m.\u001b[0m\u001b[0m_executed\u001b[0m \u001b[0;34m=\u001b[0m \u001b[0mquery\u001b[0m\u001b[0;34m\u001b[0m\u001b[0;34m\u001b[0m\u001b[0m\n",
      "\u001b[0;32m~/opt/anaconda3/lib/python3.9/site-packages/pymysql/cursors.py\u001b[0m in \u001b[0;36m_query\u001b[0;34m(self, q)\u001b[0m\n\u001b[1;32m    324\u001b[0m         \u001b[0mself\u001b[0m\u001b[0;34m.\u001b[0m\u001b[0m_clear_result\u001b[0m\u001b[0;34m(\u001b[0m\u001b[0;34m)\u001b[0m\u001b[0;34m\u001b[0m\u001b[0;34m\u001b[0m\u001b[0m\n\u001b[0;32m--> 325\u001b[0;31m         \u001b[0mconn\u001b[0m\u001b[0;34m.\u001b[0m\u001b[0mquery\u001b[0m\u001b[0;34m(\u001b[0m\u001b[0mq\u001b[0m\u001b[0;34m)\u001b[0m\u001b[0;34m\u001b[0m\u001b[0;34m\u001b[0m\u001b[0m\n\u001b[0m\u001b[1;32m    326\u001b[0m         \u001b[0mself\u001b[0m\u001b[0;34m.\u001b[0m\u001b[0m_do_get_result\u001b[0m\u001b[0;34m(\u001b[0m\u001b[0;34m)\u001b[0m\u001b[0;34m\u001b[0m\u001b[0;34m\u001b[0m\u001b[0m\n",
      "\u001b[0;32m~/opt/anaconda3/lib/python3.9/site-packages/pymysql/connections.py\u001b[0m in \u001b[0;36mquery\u001b[0;34m(self, sql, unbuffered)\u001b[0m\n\u001b[1;32m    548\u001b[0m         \u001b[0mself\u001b[0m\u001b[0;34m.\u001b[0m\u001b[0m_execute_command\u001b[0m\u001b[0;34m(\u001b[0m\u001b[0mCOMMAND\u001b[0m\u001b[0;34m.\u001b[0m\u001b[0mCOM_QUERY\u001b[0m\u001b[0;34m,\u001b[0m \u001b[0msql\u001b[0m\u001b[0;34m)\u001b[0m\u001b[0;34m\u001b[0m\u001b[0;34m\u001b[0m\u001b[0m\n\u001b[0;32m--> 549\u001b[0;31m         \u001b[0mself\u001b[0m\u001b[0;34m.\u001b[0m\u001b[0m_affected_rows\u001b[0m \u001b[0;34m=\u001b[0m \u001b[0mself\u001b[0m\u001b[0;34m.\u001b[0m\u001b[0m_read_query_result\u001b[0m\u001b[0;34m(\u001b[0m\u001b[0munbuffered\u001b[0m\u001b[0;34m=\u001b[0m\u001b[0munbuffered\u001b[0m\u001b[0;34m)\u001b[0m\u001b[0;34m\u001b[0m\u001b[0;34m\u001b[0m\u001b[0m\n\u001b[0m\u001b[1;32m    550\u001b[0m         \u001b[0;32mreturn\u001b[0m \u001b[0mself\u001b[0m\u001b[0;34m.\u001b[0m\u001b[0m_affected_rows\u001b[0m\u001b[0;34m\u001b[0m\u001b[0;34m\u001b[0m\u001b[0m\n",
      "\u001b[0;32m~/opt/anaconda3/lib/python3.9/site-packages/pymysql/connections.py\u001b[0m in \u001b[0;36m_read_query_result\u001b[0;34m(self, unbuffered)\u001b[0m\n\u001b[1;32m    778\u001b[0m             \u001b[0mresult\u001b[0m \u001b[0;34m=\u001b[0m \u001b[0mMySQLResult\u001b[0m\u001b[0;34m(\u001b[0m\u001b[0mself\u001b[0m\u001b[0;34m)\u001b[0m\u001b[0;34m\u001b[0m\u001b[0;34m\u001b[0m\u001b[0m\n\u001b[0;32m--> 779\u001b[0;31m             \u001b[0mresult\u001b[0m\u001b[0;34m.\u001b[0m\u001b[0mread\u001b[0m\u001b[0;34m(\u001b[0m\u001b[0;34m)\u001b[0m\u001b[0;34m\u001b[0m\u001b[0;34m\u001b[0m\u001b[0m\n\u001b[0m\u001b[1;32m    780\u001b[0m         \u001b[0mself\u001b[0m\u001b[0;34m.\u001b[0m\u001b[0m_result\u001b[0m \u001b[0;34m=\u001b[0m \u001b[0mresult\u001b[0m\u001b[0;34m\u001b[0m\u001b[0;34m\u001b[0m\u001b[0m\n",
      "\u001b[0;32m~/opt/anaconda3/lib/python3.9/site-packages/pymysql/connections.py\u001b[0m in \u001b[0;36mread\u001b[0;34m(self)\u001b[0m\n\u001b[1;32m   1156\u001b[0m         \u001b[0;32mtry\u001b[0m\u001b[0;34m:\u001b[0m\u001b[0;34m\u001b[0m\u001b[0;34m\u001b[0m\u001b[0m\n\u001b[0;32m-> 1157\u001b[0;31m             \u001b[0mfirst_packet\u001b[0m \u001b[0;34m=\u001b[0m \u001b[0mself\u001b[0m\u001b[0;34m.\u001b[0m\u001b[0mconnection\u001b[0m\u001b[0;34m.\u001b[0m\u001b[0m_read_packet\u001b[0m\u001b[0;34m(\u001b[0m\u001b[0;34m)\u001b[0m\u001b[0;34m\u001b[0m\u001b[0;34m\u001b[0m\u001b[0m\n\u001b[0m\u001b[1;32m   1158\u001b[0m \u001b[0;34m\u001b[0m\u001b[0m\n",
      "\u001b[0;32m~/opt/anaconda3/lib/python3.9/site-packages/pymysql/connections.py\u001b[0m in \u001b[0;36m_read_packet\u001b[0;34m(self, packet_type)\u001b[0m\n\u001b[1;32m    728\u001b[0m                 \u001b[0mself\u001b[0m\u001b[0;34m.\u001b[0m\u001b[0m_result\u001b[0m\u001b[0;34m.\u001b[0m\u001b[0munbuffered_active\u001b[0m \u001b[0;34m=\u001b[0m \u001b[0;32mFalse\u001b[0m\u001b[0;34m\u001b[0m\u001b[0;34m\u001b[0m\u001b[0m\n\u001b[0;32m--> 729\u001b[0;31m             \u001b[0mpacket\u001b[0m\u001b[0;34m.\u001b[0m\u001b[0mraise_for_error\u001b[0m\u001b[0;34m(\u001b[0m\u001b[0;34m)\u001b[0m\u001b[0;34m\u001b[0m\u001b[0;34m\u001b[0m\u001b[0m\n\u001b[0m\u001b[1;32m    730\u001b[0m         \u001b[0;32mreturn\u001b[0m \u001b[0mpacket\u001b[0m\u001b[0;34m\u001b[0m\u001b[0;34m\u001b[0m\u001b[0m\n",
      "\u001b[0;32m~/opt/anaconda3/lib/python3.9/site-packages/pymysql/protocol.py\u001b[0m in \u001b[0;36mraise_for_error\u001b[0;34m(self)\u001b[0m\n\u001b[1;32m    220\u001b[0m             \u001b[0mprint\u001b[0m\u001b[0;34m(\u001b[0m\u001b[0;34m\"errno =\"\u001b[0m\u001b[0;34m,\u001b[0m \u001b[0merrno\u001b[0m\u001b[0;34m)\u001b[0m\u001b[0;34m\u001b[0m\u001b[0;34m\u001b[0m\u001b[0m\n\u001b[0;32m--> 221\u001b[0;31m         \u001b[0merr\u001b[0m\u001b[0;34m.\u001b[0m\u001b[0mraise_mysql_exception\u001b[0m\u001b[0;34m(\u001b[0m\u001b[0mself\u001b[0m\u001b[0;34m.\u001b[0m\u001b[0m_data\u001b[0m\u001b[0;34m)\u001b[0m\u001b[0;34m\u001b[0m\u001b[0;34m\u001b[0m\u001b[0m\n\u001b[0m\u001b[1;32m    222\u001b[0m \u001b[0;34m\u001b[0m\u001b[0m\n",
      "\u001b[0;32m~/opt/anaconda3/lib/python3.9/site-packages/pymysql/err.py\u001b[0m in \u001b[0;36mraise_mysql_exception\u001b[0;34m(data)\u001b[0m\n\u001b[1;32m    142\u001b[0m         \u001b[0merrorclass\u001b[0m \u001b[0;34m=\u001b[0m \u001b[0mInternalError\u001b[0m \u001b[0;32mif\u001b[0m \u001b[0merrno\u001b[0m \u001b[0;34m<\u001b[0m \u001b[0;36m1000\u001b[0m \u001b[0;32melse\u001b[0m \u001b[0mOperationalError\u001b[0m\u001b[0;34m\u001b[0m\u001b[0;34m\u001b[0m\u001b[0m\n\u001b[0;32m--> 143\u001b[0;31m     \u001b[0;32mraise\u001b[0m \u001b[0merrorclass\u001b[0m\u001b[0;34m(\u001b[0m\u001b[0merrno\u001b[0m\u001b[0;34m,\u001b[0m \u001b[0merrval\u001b[0m\u001b[0;34m)\u001b[0m\u001b[0;34m\u001b[0m\u001b[0;34m\u001b[0m\u001b[0m\n\u001b[0m",
      "\u001b[0;31mOperationalError\u001b[0m: (1054, \"Unknown column 's.academic_detail_modified_column' in 'on clause'\")",
      "\nThe above exception was the direct cause of the following exception:\n",
      "\u001b[0;31mDatabaseError\u001b[0m                             Traceback (most recent call last)",
      "\u001b[0;32m/var/folders/t1/yg1rln0x5bg97h_qn954mvlh0000gn/T/ipykernel_8919/2055503846.py\u001b[0m in \u001b[0;36m<module>\u001b[0;34m\u001b[0m\n\u001b[1;32m     11\u001b[0m \u001b[0;34m\u001b[0m\u001b[0m\n\u001b[1;32m     12\u001b[0m \u001b[0;31m# Execute the query\u001b[0m\u001b[0;34m\u001b[0m\u001b[0;34m\u001b[0m\u001b[0m\n\u001b[0;32m---> 13\u001b[0;31m \u001b[0mfemale_graduates\u001b[0m \u001b[0;34m=\u001b[0m \u001b[0mpd\u001b[0m\u001b[0;34m.\u001b[0m\u001b[0mread_sql\u001b[0m\u001b[0;34m(\u001b[0m\u001b[0mq_i\u001b[0m\u001b[0;34m,\u001b[0m \u001b[0mconn\u001b[0m\u001b[0;34m)\u001b[0m\u001b[0;34m\u001b[0m\u001b[0;34m\u001b[0m\u001b[0m\n\u001b[0m\u001b[1;32m     14\u001b[0m \u001b[0;34m\u001b[0m\u001b[0m\n\u001b[1;32m     15\u001b[0m \u001b[0;31m# Print or display the result\u001b[0m\u001b[0;34m\u001b[0m\u001b[0;34m\u001b[0m\u001b[0m\n",
      "\u001b[0;32m~/opt/anaconda3/lib/python3.9/site-packages/pandas/io/sql.py\u001b[0m in \u001b[0;36mread_sql\u001b[0;34m(sql, con, index_col, coerce_float, params, parse_dates, columns, chunksize, dtype_backend, dtype)\u001b[0m\n\u001b[1;32m    633\u001b[0m     \u001b[0;32mwith\u001b[0m \u001b[0mpandasSQL_builder\u001b[0m\u001b[0;34m(\u001b[0m\u001b[0mcon\u001b[0m\u001b[0;34m)\u001b[0m \u001b[0;32mas\u001b[0m \u001b[0mpandas_sql\u001b[0m\u001b[0;34m:\u001b[0m\u001b[0;34m\u001b[0m\u001b[0;34m\u001b[0m\u001b[0m\n\u001b[1;32m    634\u001b[0m         \u001b[0;32mif\u001b[0m \u001b[0misinstance\u001b[0m\u001b[0;34m(\u001b[0m\u001b[0mpandas_sql\u001b[0m\u001b[0;34m,\u001b[0m \u001b[0mSQLiteDatabase\u001b[0m\u001b[0;34m)\u001b[0m\u001b[0;34m:\u001b[0m\u001b[0;34m\u001b[0m\u001b[0;34m\u001b[0m\u001b[0m\n\u001b[0;32m--> 635\u001b[0;31m             return pandas_sql.read_query(\n\u001b[0m\u001b[1;32m    636\u001b[0m                 \u001b[0msql\u001b[0m\u001b[0;34m,\u001b[0m\u001b[0;34m\u001b[0m\u001b[0;34m\u001b[0m\u001b[0m\n\u001b[1;32m    637\u001b[0m                 \u001b[0mindex_col\u001b[0m\u001b[0;34m=\u001b[0m\u001b[0mindex_col\u001b[0m\u001b[0;34m,\u001b[0m\u001b[0;34m\u001b[0m\u001b[0;34m\u001b[0m\u001b[0m\n",
      "\u001b[0;32m~/opt/anaconda3/lib/python3.9/site-packages/pandas/io/sql.py\u001b[0m in \u001b[0;36mread_query\u001b[0;34m(self, sql, index_col, coerce_float, parse_dates, params, chunksize, dtype, dtype_backend)\u001b[0m\n\u001b[1;32m   2264\u001b[0m         \u001b[0mdtype_backend\u001b[0m\u001b[0;34m:\u001b[0m \u001b[0mDtypeBackend\u001b[0m \u001b[0;34m|\u001b[0m \u001b[0mLiteral\u001b[0m\u001b[0;34m[\u001b[0m\u001b[0;34m\"numpy\"\u001b[0m\u001b[0;34m]\u001b[0m \u001b[0;34m=\u001b[0m \u001b[0;34m\"numpy\"\u001b[0m\u001b[0;34m,\u001b[0m\u001b[0;34m\u001b[0m\u001b[0;34m\u001b[0m\u001b[0m\n\u001b[1;32m   2265\u001b[0m     ) -> DataFrame | Iterator[DataFrame]:\n\u001b[0;32m-> 2266\u001b[0;31m         \u001b[0mcursor\u001b[0m \u001b[0;34m=\u001b[0m \u001b[0mself\u001b[0m\u001b[0;34m.\u001b[0m\u001b[0mexecute\u001b[0m\u001b[0;34m(\u001b[0m\u001b[0msql\u001b[0m\u001b[0;34m,\u001b[0m \u001b[0mparams\u001b[0m\u001b[0;34m)\u001b[0m\u001b[0;34m\u001b[0m\u001b[0;34m\u001b[0m\u001b[0m\n\u001b[0m\u001b[1;32m   2267\u001b[0m         \u001b[0mcolumns\u001b[0m \u001b[0;34m=\u001b[0m \u001b[0;34m[\u001b[0m\u001b[0mcol_desc\u001b[0m\u001b[0;34m[\u001b[0m\u001b[0;36m0\u001b[0m\u001b[0;34m]\u001b[0m \u001b[0;32mfor\u001b[0m \u001b[0mcol_desc\u001b[0m \u001b[0;32min\u001b[0m \u001b[0mcursor\u001b[0m\u001b[0;34m.\u001b[0m\u001b[0mdescription\u001b[0m\u001b[0;34m]\u001b[0m\u001b[0;34m\u001b[0m\u001b[0;34m\u001b[0m\u001b[0m\n\u001b[1;32m   2268\u001b[0m \u001b[0;34m\u001b[0m\u001b[0m\n",
      "\u001b[0;32m~/opt/anaconda3/lib/python3.9/site-packages/pandas/io/sql.py\u001b[0m in \u001b[0;36mexecute\u001b[0;34m(self, sql, params)\u001b[0m\n\u001b[1;32m   2212\u001b[0m \u001b[0;34m\u001b[0m\u001b[0m\n\u001b[1;32m   2213\u001b[0m             \u001b[0mex\u001b[0m \u001b[0;34m=\u001b[0m \u001b[0mDatabaseError\u001b[0m\u001b[0;34m(\u001b[0m\u001b[0;34mf\"Execution failed on sql '{sql}': {exc}\"\u001b[0m\u001b[0;34m)\u001b[0m\u001b[0;34m\u001b[0m\u001b[0;34m\u001b[0m\u001b[0m\n\u001b[0;32m-> 2214\u001b[0;31m             \u001b[0;32mraise\u001b[0m \u001b[0mex\u001b[0m \u001b[0;32mfrom\u001b[0m \u001b[0mexc\u001b[0m\u001b[0;34m\u001b[0m\u001b[0;34m\u001b[0m\u001b[0m\n\u001b[0m\u001b[1;32m   2215\u001b[0m \u001b[0;34m\u001b[0m\u001b[0m\n\u001b[1;32m   2216\u001b[0m     \u001b[0;34m@\u001b[0m\u001b[0mstaticmethod\u001b[0m\u001b[0;34m\u001b[0m\u001b[0;34m\u001b[0m\u001b[0m\n",
      "\u001b[0;31mDatabaseError\u001b[0m: Execution failed on sql '\n    SELECT \n        a.academic_level,\n        SUM(s.female) AS female_count\n    FROM status_modified s\n    JOIN academic_detail_modified a ON s.academic_detail_modified_column = a.academic_detail_modified_column\n    WHERE a.academic_level IN ('Bachelor''s', 'Master''s')\n    GROUP BY a.academic_level;\n': (1054, \"Unknown column 's.academic_detail_modified_column' in 'on clause'\")"
     ]
    }
   ],
   "source": [
    "q_i = \"\"\"\n",
    "    SELECT \n",
    "        a.academic_level,\n",
    "        SUM(s.female) AS female_count\n",
    "    FROM status_modified s\n",
    "    JOIN academic_detail_modified a ON s.academic_detail_modified_column = a.academic_detail_modified_column\n",
    "    WHERE a.academic_level IN ('Bachelor''s', 'Master''s')\n",
    "    GROUP BY a.academic_level;\n",
    "\"\"\"\n",
    "\n",
    "\n",
    "# Execute the query\n",
    "female_graduates = pd.read_sql(q_i, conn)\n",
    "\n",
    "# Print or display the result\n",
    "print(\"\\nFemale graduates count:\")\n",
    "print(female_graduates)"
   ]
  },
  {
   "cell_type": "markdown",
   "metadata": {},
   "source": [
    "How many foreign students and us students? "
   ]
  },
  {
   "cell_type": "code",
   "execution_count": 106,
   "metadata": {},
   "outputs": [
    {
     "name": "stdout",
     "output_type": "stream",
     "text": [
      "\n",
      "Student count:\n",
      "   foreign_student_count  us_student_count\n",
      "0             13241603.0          653657.0\n"
     ]
    },
    {
     "name": "stderr",
     "output_type": "stream",
     "text": [
      "/var/folders/t1/yg1rln0x5bg97h_qn954mvlh0000gn/T/ipykernel_8919/4078557802.py:9: UserWarning: pandas only supports SQLAlchemy connectable (engine/connection) or database string URI or sqlite3 DBAPI2 connection. Other DBAPI2 objects are not tested. Please consider using SQLAlchemy.\n",
      "  student_count = pd.read_sql(q_h, conn)\n"
     ]
    }
   ],
   "source": [
    "q_h = \"\"\"\n",
    "    SELECT \n",
    "        SUM(visa_f) AS foreign_student_count,\n",
    "        SUM(visa_j) AS us_student_count\n",
    "    FROM status_modified;\n",
    "\"\"\"\n",
    "\n",
    "# Execute the query\n",
    "student_count = pd.read_sql(q_h, conn)\n",
    "\n",
    "# Print or display the result\n",
    "print(\"\\nStudent count:\")\n",
    "print(student_count)"
   ]
  },
  {
   "cell_type": "code",
   "execution_count": 150,
   "metadata": {},
   "outputs": [
    {
     "name": "stdout",
     "output_type": "stream",
     "text": [
      "\n",
      "Total number of students by academic level and gender:\n",
      "  academic_level  total_male  total_female\n",
      "0    Associate's   8060134.0     6402654.0\n",
      "1     Bachelor's   8060134.0     6402654.0\n",
      "2       Master's   8060134.0     6402654.0\n",
      "3       Doctoral   8060134.0     6402654.0\n",
      "4   Professional   8060134.0     6402654.0\n"
     ]
    },
    {
     "name": "stderr",
     "output_type": "stream",
     "text": [
      "/var/folders/t1/yg1rln0x5bg97h_qn954mvlh0000gn/T/ipykernel_8919/836178629.py:12: UserWarning: pandas only supports SQLAlchemy connectable (engine/connection) or database string URI or sqlite3 DBAPI2 connection. Other DBAPI2 objects are not tested. Please consider using SQLAlchemy.\n",
      "  total_students_by_level = pd.read_sql(q_h, conn)\n"
     ]
    }
   ],
   "source": [
    "q_h = \"\"\"\n",
    "    SELECT a.academic_level,\n",
    "        SUM(s.male) AS total_male,\n",
    "        SUM(s.female) AS total_female\n",
    "    FROM status_modified s\n",
    "    JOIN academic_detail_modified a ON s.year = a.year\n",
    "    WHERE a.academic_level IN ('Associate''s', 'Bachelor''s', 'Master''s', 'Doctoral', 'Professional')\n",
    "    GROUP BY a.academic_level;\n",
    "\"\"\"\n",
    "\n",
    "# Execute the query\n",
    "total_students_by_level = pd.read_sql(q_h, conn)\n",
    "\n",
    "# Print or display the result\n",
    "print(\"\\nTotal number of students by academic level and gender:\")\n",
    "print(total_students_by_level)\n",
    "\n"
   ]
  }
 ],
 "metadata": {
  "kernelspec": {
   "display_name": "base",
   "language": "python",
   "name": "python3"
  },
  "language_info": {
   "codemirror_mode": {
    "name": "ipython",
    "version": 3
   },
   "file_extension": ".py",
   "mimetype": "text/x-python",
   "name": "python",
   "nbconvert_exporter": "python",
   "pygments_lexer": "ipython3",
   "version": "3.9.0"
  }
 },
 "nbformat": 4,
 "nbformat_minor": 2
}
